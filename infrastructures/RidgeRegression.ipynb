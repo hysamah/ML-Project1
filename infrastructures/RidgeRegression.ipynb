{
 "cells": [
  {
   "cell_type": "code",
   "execution_count": null,
   "id": "24aff728-c79f-4c5e-b9bc-4354efa30932",
   "metadata": {},
   "outputs": [],
   "source": [
    "def ridge_regression(y, tx, lambda_):\n",
    "    \"\"\"implement ridge regression.\n",
    "    \n",
    "    Args:\n",
    "        y: numpy array of shape (N,), N is the number of samples.\n",
    "        tx: numpy array of shape (N,D), D is the number of features.\n",
    "        lambda_: scalar.\n",
    "    \n",
    "    Returns:\n",
    "        w: optimal weights, numpy array of shape(D,), D is the number of features.\n",
    "\n",
    "    >>> ridge_regression(np.array([0.1,0.2]), np.array([[2.3, 3.2], [1., 0.1]]), 0)\n",
    "    array([ 0.21212121, -0.12121212])\n",
    "    >>> ridge_regression(np.array([0.1,0.2]), np.array([[2.3, 3.2], [1., 0.1]]), 1)\n",
    "    array([0.03947092, 0.00319628])\n",
    "    \"\"\"\n",
    "    d = tx.shape[1]\n",
    "    n = tx.shape[0]\n",
    "    lambda_prime = 2 * n * lambda_\n",
    "    a = (tx.T @ tx) + (lambda_prime * np.identity(d))\n",
    "    b = tx.T @ y\n",
    "    w_ridge = np.linalg.solve(a, b)\n",
    "    e = y - (tx @ w_ridge)\n",
    "    mse = np.mean ( e ** 2) / 2\n",
    "    return w_ridge"
   ]
  }
 ],
 "metadata": {
  "kernelspec": {
   "display_name": "Python 3.10.8 64-bit (microsoft store)",
   "language": "python",
   "name": "python3"
  },
  "language_info": {
   "codemirror_mode": {
    "name": "ipython",
    "version": 3
   },
   "file_extension": ".py",
   "mimetype": "text/x-python",
   "name": "python",
   "nbconvert_exporter": "python",
   "pygments_lexer": "ipython3",
   "version": "3.10.8"
  },
  "vscode": {
   "interpreter": {
    "hash": "ee6b41961f93c6f250bc55b15f7bfcab9769f15680d1f879ddd8dd4e686622cd"
   }
  }
 },
 "nbformat": 4,
 "nbformat_minor": 5
}
