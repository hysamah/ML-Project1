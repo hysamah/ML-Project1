{
 "cells": [
  {
   "cell_type": "code",
   "execution_count": 82,
   "metadata": {},
   "outputs": [],
   "source": [
    "import numpy as np\n",
    "def load_data(train_path, test_path):\n",
    "    \"\"\"load data.\"\"\"\n",
    "    n_cols = tuple(i for i in range(2,32,1)) #creating a tuple for the number of colums to be used in loadtxt\n",
    "    y_tr = np.loadtxt(train_path, delimiter=\",\", skiprows=1, unpack=True, dtype = str, usecols=(1))\n",
    "    x_tr = np.loadtxt(train_path, delimiter=\",\", skiprows=1, unpack=True, usecols=n_cols)\n",
    "    \n",
    "    y_te = np.loadtxt(test_path, delimiter=\",\", skiprows=1, unpack=True, dtype = str, usecols=(1))\n",
    "    x_te = np.loadtxt(test_path, delimiter=\",\", skiprows=1, unpack=True,  usecols=n_cols)\n",
    "\n",
    "    x_tr = x_tr.T\n",
    "    x_te = x_te.T\n",
    "    return x_tr, y_tr, x_te, y_te\n",
    "\n",
    "def standardize(x):\n",
    "    \"\"\"Standardize the original data set.\"\"\"\n",
    "    mean_x = np.mean(x, axis = 0)\n",
    "    x = x - mean_x\n",
    "    std_x = np.std(x, axis = 0)\n",
    "    x = x / std_x\n",
    "    return x\n",
    "\n",
    "def build_model_data(x, y):\n",
    "    \"\"\"Form (y,tX) to get regression data in matrix form.\"\"\"\n",
    "    num_samples = len(y)\n",
    "    tx = np.c_[np.ones(num_samples), x]\n",
    "    return tx, y \n",
    "\n",
    "def preprocess_data(train_path = \"../train.csv\", test_path = \"../test.csv\"):\n",
    "    x_tr, y_tr, x_te, y_te = load_data(train_path, test_path)\n",
    "    x_tr = standardize(x_tr)\n",
    "    x_te = standardize(x_te)\n",
    "    x_tr, y_tr = build_model_data(x_tr, y_tr)\n",
    "    x_te, y_te = build_model_data(x_te, y_te)\n",
    "    return x_tr, y_tr, x_te, y_te\n"
   ]
  },
  {
   "cell_type": "code",
   "execution_count": 83,
   "metadata": {},
   "outputs": [
    {
     "name": "stdout",
     "output_type": "stream",
     "text": [
      "(250000, 31)\n",
      "(250000,)\n",
      "(568238, 31)\n",
      "(568238,)\n"
     ]
    }
   ],
   "source": [
    "x_tr, y_tr, x_te, y_te = preprocess_data()\n",
    "print(x_tr.shape)\n",
    "print(y_tr.shape)\n",
    "print(x_te.shape)\n",
    "print(y_te.shape)"
   ]
  }
 ],
 "metadata": {
  "kernelspec": {
   "display_name": "Python 3.10.7 64-bit (microsoft store)",
   "language": "python",
   "name": "python3"
  },
  "language_info": {
   "codemirror_mode": {
    "name": "ipython",
    "version": 3
   },
   "file_extension": ".py",
   "mimetype": "text/x-python",
   "name": "python",
   "nbconvert_exporter": "python",
   "pygments_lexer": "ipython3",
   "version": "3.10.7"
  },
  "orig_nbformat": 4,
  "vscode": {
   "interpreter": {
    "hash": "ee6b41961f93c6f250bc55b15f7bfcab9769f15680d1f879ddd8dd4e686622cd"
   }
  }
 },
 "nbformat": 4,
 "nbformat_minor": 2
}
