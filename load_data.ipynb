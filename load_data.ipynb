{
 "cells": [
  {
   "cell_type": "code",
   "execution_count": 10,
   "metadata": {},
   "outputs": [],
   "source": [
    "import numpy as np\n",
    "def load_data(train_path, test_path):\n",
    "    \"\"\"load data.\"\"\"\n",
    "    max_cols = np.loadtxt(train_path, delimiter=\",\", skiprows=1, unpack=True, dtype = str, max_rows = 1).shape[0]\n",
    "    n_cols = tuple(i for i in range(2,max_cols,1)) #creating a tuple for the number of colums to be used in loadtxt\n",
    "    y_tr = np.loadtxt(train_path, delimiter=\",\", skiprows=1, unpack=True, dtype = str, usecols=(1))\n",
    "    x_tr = np.loadtxt(train_path, delimiter=\",\", skiprows=1, unpack=True, usecols=n_cols)\n",
    "    \n",
    "    y_te = np.loadtxt(test_path, delimiter=\",\", skiprows=1, unpack=True, dtype = str, usecols=(1))\n",
    "    x_te = np.loadtxt(test_path, delimiter=\",\", skiprows=1, unpack=True,  usecols=n_cols)\n",
    "\n",
    "    x_tr = x_tr.T\n",
    "    x_te = x_te.T\n",
    "\n",
    "    return x_tr, y_tr, x_te, y_te\n",
    "\n",
    "def standardize(x):\n",
    "    \"\"\"Standardize the original data set.\"\"\"\n",
    "    mean_x = np.mean(x, axis = 0)\n",
    "    x = x - mean_x\n",
    "    std_x = np.std(x, axis = 0)\n",
    "    x = x / std_x\n",
    "    return x\n",
    "\n",
    "def build_model_data(x, y):\n",
    "    \"\"\"Form (y,tX) to get regression data in matrix form.\"\"\"\n",
    "    num_samples = len(y)\n",
    "    tx = np.c_[np.ones(num_samples), x]\n",
    "    return tx, y \n",
    "def enumerate_labels(y):\n",
    "    y = y.view(np.int32)\n",
    "    return y \n",
    "\n",
    "def preprocess_data(train_path = \"../train.csv\", test_path = \"../test.csv\"):\n",
    "    x_tr, y_tr, x_te, y_te = load_data(train_path, test_path)\n",
    "    x_tr = standardize(x_tr)\n",
    "    x_te = standardize(x_te)\n",
    "    x_tr, y_tr = build_model_data(x_tr, y_tr)\n",
    "    x_te, y_te = build_model_data(x_te, y_te)\n",
    "    y_tr = enumerate_labels(y_tr)\n",
    "    y_te = enumerate_labels(y_te)\n",
    "    return x_tr, y_tr, x_te, y_te\n"
   ]
  },
  {
   "cell_type": "code",
   "execution_count": 11,
   "metadata": {},
   "outputs": [
    {
     "name": "stdout",
     "output_type": "stream",
     "text": [
      "(250000, 31) (250000,) (568238, 31) (568238,)\n"
     ]
    }
   ],
   "source": [
    "x_tr, y_tr, x_te, y_te = preprocess_data()\n",
    "print(x_tr.shape, y_tr.shape, x_te.shape, y_te.shape)"
   ]
  }
 ],
 "metadata": {
  "kernelspec": {
   "display_name": "Python 3.10.7 64-bit (microsoft store)",
   "language": "python",
   "name": "python3"
  },
  "language_info": {
   "codemirror_mode": {
    "name": "ipython",
    "version": 3
   },
   "file_extension": ".py",
   "mimetype": "text/x-python",
   "name": "python",
   "nbconvert_exporter": "python",
   "pygments_lexer": "ipython3",
   "version": "3.10.7"
  },
  "orig_nbformat": 4,
  "vscode": {
   "interpreter": {
    "hash": "ee6b41961f93c6f250bc55b15f7bfcab9769f15680d1f879ddd8dd4e686622cd"
   }
  }
 },
 "nbformat": 4,
 "nbformat_minor": 2
}
