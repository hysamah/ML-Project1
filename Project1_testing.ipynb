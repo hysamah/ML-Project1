{
 "cells": [
  {
   "cell_type": "code",
   "execution_count": 239,
   "metadata": {},
   "outputs": [
    {
     "name": "stdout",
     "output_type": "stream",
     "text": [
      "The autoreload extension is already loaded. To reload it, use:\n",
      "  %reload_ext autoreload\n"
     ]
    }
   ],
   "source": [
    "%matplotlib inline\n",
    "import numpy as np\n",
    "import matplotlib.pyplot as plt\n",
    "from implementations import *\n",
    "from helpers import *\n",
    "%load_ext autoreload\n",
    "%autoreload 2"
   ]
  },
  {
   "cell_type": "markdown",
   "metadata": {},
   "source": [
    "# Data preprocessing and split"
   ]
  },
  {
   "cell_type": "code",
   "execution_count": 242,
   "metadata": {},
   "outputs": [],
   "source": [
    "ratio = 0.8  #ratio is the percentage of the data allocated for training \n",
    "seed = 1  #random seed for data shuffling\n",
    "x_tr, y_tr, x_te, id_te = preprocess_data() #preprocess intput data from the training and test sets\n",
    "#x_tr, x_v, y_tr, y_v = split_data(x_tr, y_tr, ratio, seed) #split training data into training and validation sets"
   ]
  },
  {
   "cell_type": "code",
   "execution_count": 256,
   "metadata": {},
   "outputs": [
    {
     "name": "stdout",
     "output_type": "stream",
     "text": [
      "0.08454318686584913\n",
      "The training accuracy is: 0.746012\n"
     ]
    }
   ],
   "source": [
    "# Define the parameters of the algorithm.\n",
    "max_iters = 200\n",
    "gamma = 0.15459\n",
    "# Initialization\n",
    "initial_w = generate_w(x_tr.shape)\n",
    "w, loss = mean_squared_error_gd(y_tr, x_tr, initial_w, max_iters, gamma)\n",
    "print(loss)\n",
    "print(\"The training accuracy is:\", get_accuracy(y_tr, x_tr, w))"
   ]
  },
  {
   "cell_type": "code",
   "execution_count": 243,
   "metadata": {},
   "outputs": [
    {
     "name": "stdout",
     "output_type": "stream",
     "text": [
      "0.08810091759085904\n",
      "The training accuracy is: 0.746176\n"
     ]
    }
   ],
   "source": [
    "# Define the parameters of the algorithm.\n",
    "max_iters = 200\n",
    "gamma = 0.065\n",
    "batch_size = 200\n",
    "seed = 1\n",
    "# Initialization\n",
    "initial_w = generate_w(x_tr.shape)\n",
    "np.random.seed(seed)\n",
    "w, loss = mean_squared_error_sgd(y_tr, x_tr, initial_w, max_iters, gamma, batch_size, shuffle = True)\n",
    "print(loss)\n",
    "print(\"The training accuracy is:\", get_accuracy(y_tr, x_tr, w))"
   ]
  },
  {
   "cell_type": "markdown",
   "metadata": {},
   "source": [
    "# Gradient descent training"
   ]
  },
  {
   "cell_type": "code",
   "execution_count": 196,
   "metadata": {},
   "outputs": [
    {
     "name": "stdout",
     "output_type": "stream",
     "text": [
      "The training accuracy is: 0.746\n"
     ]
    }
   ],
   "source": [
    "# Define the parameters of the algorithm.\n",
    "max_iters = 200\n",
    "gamma = 0.15\n",
    "# Initialization\n",
    "initial_w = generate_w(x_tr.shape)\n",
    "w, loss = mean_squared_error_gd(y_tr, x_tr, initial_w, max_iters, gamma)\n",
    "print(\"The training accuracy is:\", get_accuracy(y_tr, x_tr, w))"
   ]
  },
  {
   "cell_type": "code",
   "execution_count": 47,
   "metadata": {},
   "outputs": [],
   "source": [
    "id, preds = test(id_te, x_te, w)\n",
    "create_csv_submission(id, preds, \"testing_test.csv\")"
   ]
  },
  {
   "cell_type": "markdown",
   "metadata": {},
   "source": [
    "# SGD training"
   ]
  },
  {
   "cell_type": "code",
   "execution_count": 209,
   "metadata": {},
   "outputs": [
    {
     "name": "stdout",
     "output_type": "stream",
     "text": [
      "The training accuracy is: 0.746028\n"
     ]
    }
   ],
   "source": [
    "# Define the parameters of the algorithm.\n",
    "max_iters = 200\n",
    "gamma = 0.06\n",
    "batch_size = 200\n",
    "seed = 1\n",
    "# Initialization\n",
    "initial_w = generate_w(x_tr.shape)\n",
    "np.random.seed(seed)\n",
    "w, loss = mean_squared_error_sgd(y_tr, x_tr, initial_w, max_iters, gamma, batch_size, shuffle = True)\n",
    "print(\"The training accuracy is:\", get_accuracy(y_tr, x_tr, w))"
   ]
  },
  {
   "cell_type": "code",
   "execution_count": 210,
   "metadata": {},
   "outputs": [
    {
     "name": "stdout",
     "output_type": "stream",
     "text": [
      "The training accuracy is: 0.746028\n"
     ]
    }
   ],
   "source": [
    "print(\"The training accuracy is:\", get_accuracy(y_tr, x_tr, w))\n",
    "#print(\"The validation accuracy is:\", get_accuracy(y_v, x_v, w))"
   ]
  },
  {
   "cell_type": "code",
   "execution_count": 136,
   "metadata": {},
   "outputs": [],
   "source": [
    "id, preds = test(id_te, x_te, w)\n",
    "create_csv_submission(id, preds, \"SGD_test.csv\")"
   ]
  },
  {
   "cell_type": "markdown",
   "metadata": {},
   "source": [
    "# insert remaining test codes below"
   ]
  },
  {
   "cell_type": "code",
   "execution_count": 244,
   "metadata": {},
   "outputs": [
    {
     "name": "stdout",
     "output_type": "stream",
     "text": [
      "0.08412672882257373\n",
      "The training accuracy is: 0.7474799999999999\n"
     ]
    }
   ],
   "source": [
    "w, loss = least_squares(y_tr, x_tr)\n",
    "print(loss)\n",
    "print(\"The training accuracy is:\", get_accuracy(y_tr, x_tr, w))\n",
    "#print(\"The validation accuracy is:\", get_accuracy(y_v, x_v, w))"
   ]
  },
  {
   "cell_type": "code",
   "execution_count": 182,
   "metadata": {},
   "outputs": [],
   "source": [
    "id, preds = test(id_te, x_te, w)\n",
    "create_csv_submission(id, preds, \"least_squares_test.csv\")"
   ]
  },
  {
   "cell_type": "code",
   "execution_count": 180,
   "metadata": {},
   "outputs": [
    {
     "name": "stdout",
     "output_type": "stream",
     "text": [
      "The training accuracy is: 0.745584\n"
     ]
    }
   ],
   "source": [
    "w, loss = ridge_regression(y_tr, x_tr, 0.005)\n",
    "print(\"The training accuracy is:\", get_accuracy(y_tr, x_tr, w))\n",
    "#print(\"The validation accuracy is:\", get_accuracy(y_v, x_v, w))"
   ]
  },
  {
   "cell_type": "code",
   "execution_count": 155,
   "metadata": {},
   "outputs": [
    {
     "name": "stdout",
     "output_type": "stream",
     "text": [
      "The training accuracy is: 0.657332\n"
     ]
    }
   ],
   "source": [
    "initial_w = generate_w(x_tr.shape)\n",
    "max_iters = 50\n",
    "gamma = 0.0005\n",
    "w, loss = logistic_regression(y_tr, x_tr, initial_w, max_iters, gamma)\n",
    "print(\"The training accuracy is:\", get_accuracy(y_tr, x_tr, w))\n",
    "#print(\"The validation accuracy is:\", get_accuracy(y_v, x_v, w))"
   ]
  },
  {
   "cell_type": "code",
   "execution_count": 152,
   "metadata": {},
   "outputs": [
    {
     "name": "stdout",
     "output_type": "stream",
     "text": [
      "The training accuracy is: 0.65752\n"
     ]
    }
   ],
   "source": [
    "initial_w = generate_w(x_tr.shape)\n",
    "max_iters = 50\n",
    "gamma = 0.005\n",
    "lambda_ = 0.02\n",
    "w, loss = reg_logistic_regression(y_tr, x_tr, lambda_, initial_w, max_iters, gamma)\n",
    "print(\"The training accuracy is:\", get_accuracy(y_tr, x_tr, w))\n",
    "#print(\"The validation accuracy is:\", get_accuracy(y_v, x_v, w))"
   ]
  }
 ],
 "metadata": {
  "kernelspec": {
   "display_name": "Python 3.10.8 64-bit (microsoft store)",
   "language": "python",
   "name": "python3"
  },
  "language_info": {
   "codemirror_mode": {
    "name": "ipython",
    "version": 3
   },
   "file_extension": ".py",
   "mimetype": "text/x-python",
   "name": "python",
   "nbconvert_exporter": "python",
   "pygments_lexer": "ipython3",
   "version": "3.10.8"
  },
  "orig_nbformat": 4,
  "vscode": {
   "interpreter": {
    "hash": "ee6b41961f93c6f250bc55b15f7bfcab9769f15680d1f879ddd8dd4e686622cd"
   }
  }
 },
 "nbformat": 4,
 "nbformat_minor": 2
}
