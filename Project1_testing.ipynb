{
 "cells": [
  {
   "cell_type": "code",
   "execution_count": 88,
   "metadata": {},
   "outputs": [
    {
     "name": "stdout",
     "output_type": "stream",
     "text": [
      "The autoreload extension is already loaded. To reload it, use:\n",
      "  %reload_ext autoreload\n"
     ]
    }
   ],
   "source": [
    "#%matplotlib inline\n",
    "import numpy as np\n",
    "import matplotlib.pyplot as plt\n",
    "from implementations import *\n",
    "from helpers import *\n",
    "%load_ext autoreload\n",
    "%autoreload 2"
   ]
  },
  {
   "cell_type": "markdown",
   "metadata": {},
   "source": [
    "# Data preprocessing and split"
   ]
  },
  {
   "cell_type": "code",
   "execution_count": 70,
   "metadata": {},
   "outputs": [],
   "source": [
    "ratio = 0.8  #ratio is the percentage of the data allocated for training \n",
    "seed = 1  #random seed for data shuffling\n",
    "x_tr, y_tr, x_te, id_te = preprocess_data() #preprocess intput data from the training and test sets\n",
    "#x_tr, x_v, y_tr, y_v = split_data(x_tr, y_tr, ratio, seed) #split training data into training and validation setsb"
   ]
  },
  {
   "cell_type": "code",
   "execution_count": 92,
   "metadata": {},
   "outputs": [
    {
     "name": "stdout",
     "output_type": "stream",
     "text": [
      "0.08412672882257372\n",
      "The training accuracy is: 0.747536\n"
     ]
    }
   ],
   "source": [
    "w, loss = least_squares(y_tr, x_tr)\n",
    "print(loss)\n",
    "pred = (x_tr.dot(w) >= 0.5 )\n",
    "pred = predict_mse(x_tr, w)\n",
    "print(\"The training accuracy is:\", get_accuracy(y_tr, pred))"
   ]
  },
  {
   "cell_type": "code",
   "execution_count": 53,
   "metadata": {},
   "outputs": [
    {
     "data": {
      "text/plain": [
       "0.263224"
      ]
     },
     "execution_count": 53,
     "metadata": {},
     "output_type": "execute_result"
    }
   ],
   "source": [
    "pred.mean()"
   ]
  },
  {
   "cell_type": "code",
   "execution_count": 347,
   "metadata": {},
   "outputs": [
    {
     "name": "stdout",
     "output_type": "stream",
     "text": [
      "0.0875836379544327\n",
      "The training accuracy is: 0.7355320000000001\n"
     ]
    }
   ],
   "source": [
    "# Define the parameters of the algorithm.\n",
    "max_iters = 200\n",
    "gamma = 0.065\n",
    "# Initialization\n",
    "initial_w = generate_w(x_tr.shape)\n",
    "w, loss = mean_squared_error_gd_es(y_tr, x_tr, initial_w, max_iters, gamma)\n",
    "print(loss)\n",
    "print(\"The training accuracy is:\", get_accuracy(y_tr, x_tr, w))"
   ]
  },
  {
   "cell_type": "code",
   "execution_count": 353,
   "metadata": {},
   "outputs": [
    {
     "name": "stdout",
     "output_type": "stream",
     "text": [
      "0.09114199673393858\n",
      "The training accuracy is: 0.7358199999999999\n"
     ]
    }
   ],
   "source": [
    "# Define the parameters of the algorithm.\n",
    "max_iters = 200\n",
    "gamma = 0.065\n",
    "batch_size = 200\n",
    "seed = 1\n",
    "# Initialization\n",
    "initial_w = generate_w(x_tr.shape)\n",
    "np.random.seed(seed)\n",
    "w, loss = mean_squared_error_sgd(y_tr, x_tr, initial_w, max_iters, gamma, batch_size, shuffle = True)\n",
    "print(loss)\n",
    "print(\"The training accuracy is:\", get_accuracy(y_tr, x_tr, w))"
   ]
  },
  {
   "cell_type": "markdown",
   "metadata": {},
   "source": [
    "# Gradient descent training"
   ]
  },
  {
   "cell_type": "code",
   "execution_count": 196,
   "metadata": {},
   "outputs": [
    {
     "name": "stdout",
     "output_type": "stream",
     "text": [
      "The training accuracy is: 0.746\n"
     ]
    }
   ],
   "source": [
    "# Define the parameters of the algorithm.\n",
    "max_iters = 200\n",
    "gamma = 0.15\n",
    "# Initialization\n",
    "initial_w = generate_w(x_tr.shape)\n",
    "w, loss = mean_squared_error_gd(y_tr, x_tr, initial_w, max_iters, gamma)\n",
    "print(\"The training accuracy is:\", get_accuracy(y_tr, x_tr, w))"
   ]
  },
  {
   "cell_type": "code",
   "execution_count": 47,
   "metadata": {},
   "outputs": [],
   "source": [
    "id, preds = test(id_te, x_te, w)\n",
    "create_csv_submission(id, preds, \"testing_test.csv\")"
   ]
  },
  {
   "cell_type": "markdown",
   "metadata": {},
   "source": [
    "# SGD training"
   ]
  },
  {
   "cell_type": "code",
   "execution_count": 209,
   "metadata": {},
   "outputs": [
    {
     "name": "stdout",
     "output_type": "stream",
     "text": [
      "The training accuracy is: 0.746028\n"
     ]
    }
   ],
   "source": [
    "# Define the parameters of the algorithm.\n",
    "max_iters = 200\n",
    "gamma = 0.06\n",
    "batch_size = 200\n",
    "seed = 1\n",
    "# Initialization\n",
    "initial_w = generate_w(x_tr.shape)\n",
    "np.random.seed(seed)\n",
    "w, loss = mean_squared_error_sgd(y_tr, x_tr, initial_w, max_iters, gamma, batch_size, shuffle = True)\n",
    "print(\"The training accuracy is:\", get_accuracy(y_tr, x_tr, w))"
   ]
  },
  {
   "cell_type": "code",
   "execution_count": 210,
   "metadata": {},
   "outputs": [
    {
     "name": "stdout",
     "output_type": "stream",
     "text": [
      "The training accuracy is: 0.746028\n"
     ]
    }
   ],
   "source": [
    "print(\"The training accuracy is:\", get_accuracy(y_tr, x_tr, w))\n",
    "#print(\"The validation accuracy is:\", get_accuracy(y_v, x_v, w))"
   ]
  },
  {
   "cell_type": "code",
   "execution_count": 136,
   "metadata": {},
   "outputs": [],
   "source": [
    "id, preds = test(id_te, x_te, w)\n",
    "create_csv_submission(id, preds, \"SGD_test.csv\")"
   ]
  },
  {
   "cell_type": "markdown",
   "metadata": {},
   "source": [
    "# insert remaining test codes below"
   ]
  },
  {
   "cell_type": "code",
   "execution_count": 257,
   "metadata": {},
   "outputs": [
    {
     "name": "stdout",
     "output_type": "stream",
     "text": [
      "0.08412672882257373\n",
      "The training accuracy is: 0.7474799999999999\n"
     ]
    }
   ],
   "source": [
    "w, loss = least_squares(y_tr, x_tr)\n",
    "print(loss)\n",
    "print(\"The training accuracy is:\", get_accuracy(y_tr, x_tr, w))\n",
    "#print(\"The validation accuracy is:\", get_accuracy(y_v, x_v, w))"
   ]
  },
  {
   "cell_type": "code",
   "execution_count": 182,
   "metadata": {},
   "outputs": [],
   "source": [
    "id, preds = test(id_te, x_te, w)\n",
    "create_csv_submission(id, preds, \"least_squares_test.csv\")"
   ]
  },
  {
   "cell_type": "code",
   "execution_count": 93,
   "metadata": {},
   "outputs": [
    {
     "name": "stdout",
     "output_type": "stream",
     "text": [
      "The training accuracy is: 0.7455879999999999\n"
     ]
    }
   ],
   "source": [
    "w, loss = ridge_regression(y_tr, x_tr, 0.005)\n",
    "pred = predict_mse(x_tr, w)\n",
    "print(\"The training accuracy is:\", get_accuracy(y_tr,pred))\n",
    "#print(\"The validation accuracy is:\", get_accuracy(y_v, x_v, w))"
   ]
  },
  {
   "cell_type": "code",
   "execution_count": 91,
   "metadata": {},
   "outputs": [
    {
     "name": "stdout",
     "output_type": "stream",
     "text": [
      "it: 0 acc: 0.42969199999999996 loss: 2.230143742406036\n",
      "it: 10 acc: 0.548556 loss: 1.2760212272506815\n",
      "it: 20 acc: 0.6197159999999999 loss: 0.8605477059253163\n",
      "it: 30 acc: 0.667852 loss: 0.6942503999257987\n",
      "it: 40 acc: 0.694888 loss: 0.6213948815940519\n",
      "it: 50 acc: 0.7108920000000001 loss: 0.5859647045665255\n",
      "it: 60 acc: 0.7204280000000001 loss: 0.5668782720295076\n",
      "it: 70 acc: 0.726172 loss: 0.5553844946398655\n",
      "it: 80 acc: 0.729264 loss: 0.5476977191534499\n",
      "it: 90 acc: 0.731688 loss: 0.5421021603707427\n",
      "it: 100 acc: 0.7337279999999999 loss: 0.5377681084800675\n",
      "it: 110 acc: 0.7353879999999999 loss: 0.5342620498514434\n",
      "it: 120 acc: 0.73666 loss: 0.531338306705657\n",
      "it: 130 acc: 0.73766 loss: 0.5288465351932687\n",
      "it: 140 acc: 0.7385360000000001 loss: 0.5266883865057607\n",
      "it: 150 acc: 0.739548 loss: 0.5247959164297256\n",
      "it: 160 acc: 0.740444 loss: 0.5231201050074556\n",
      "it: 170 acc: 0.7409399999999999 loss: 0.5216243463774013\n",
      "it: 180 acc: 0.7417039999999999 loss: 0.5202805332016658\n",
      "it: 190 acc: 0.742096 loss: 0.5190665799878086\n",
      "it: 200 acc: 0.742552 loss: 0.5179647907425857\n",
      "it: 210 acc: 0.7429 loss: 0.5169607469382417\n",
      "it: 220 acc: 0.743152 loss: 0.5160425292276919\n",
      "it: 230 acc: 0.743448 loss: 0.5152001601603987\n",
      "it: 240 acc: 0.7439439999999999 loss: 0.5144251969964153\n",
      "it: 250 acc: 0.744212 loss: 0.5137104286185572\n",
      "it: 260 acc: 0.744524 loss: 0.5130496459691939\n",
      "it: 270 acc: 0.744676 loss: 0.5124374652982226\n",
      "it: 280 acc: 0.745012 loss: 0.5118691899605302\n",
      "it: 290 acc: 0.745096 loss: 0.5113407007998495\n",
      "it: 300 acc: 0.745288 loss: 0.5108483680606913\n",
      "it: 310 acc: 0.745544 loss: 0.510388979757624\n",
      "it: 320 acc: 0.745684 loss: 0.5099596828070871\n",
      "it: 330 acc: 0.745788 loss: 0.5095579341904686\n",
      "it: 340 acc: 0.745652 loss: 0.5091814601005366\n",
      "it: 350 acc: 0.7457119999999999 loss: 0.5088282215137869\n",
      "it: 360 acc: 0.74578 loss: 0.508496384988384\n",
      "it: 370 acc: 0.745916 loss: 0.5081842977508066\n",
      "it: 380 acc: 0.7459720000000001 loss: 0.5078904663310488\n",
      "it: 390 acc: 0.745976 loss: 0.5076135381556908\n",
      "it: 400 acc: 0.745988 loss: 0.5073522856224689\n",
      "it: 410 acc: 0.746012 loss: 0.5071055922690955\n",
      "it: 420 acc: 0.7460640000000001 loss: 0.5068724407187171\n",
      "it: 430 acc: 0.746028 loss: 0.5066519021399634\n",
      "it: 440 acc: 0.746076 loss: 0.5064431270037708\n",
      "it: 450 acc: 0.7462 loss: 0.5062453369549413\n",
      "it: 460 acc: 0.746324 loss: 0.5060578176455657\n",
      "it: 470 acc: 0.746348 loss: 0.5058799124011487\n",
      "it: 480 acc: 0.7464 loss: 0.5057110166099976\n",
      "it: 490 acc: 0.74646 loss: 0.5055505727425417\n"
     ]
    }
   ],
   "source": [
    "# x_tr_aug = np.concatenate((np.ones((x_tr.shape[0], 1)), x_tr, x_tr**2, x_tr**3), axis=1)\n",
    "initial_w = np.random.randn(x_tr.shape[1])\n",
    "max_iters = 500\n",
    "gamma = 0.3\n",
    "losses = []\n",
    "for i in range(max_iters):\n",
    "    w, loss = logistic_regression(y_tr>0, x_tr, initial_w, 1, gamma)\n",
    "    losses.append(loss)\n",
    "    initial_w = w\n",
    "    pred = predict_logistic(x_tr, w)\n",
    "    if i%10 == 0:\n",
    "        print(\"it:\", i, \"acc:\", get_accuracy(y_tr, pred), \"loss:\", loss)\n",
    "#print(\"The validation accuracy is:\", get_accuracy(y_v, x_v, w))"
   ]
  },
  {
   "cell_type": "code",
   "execution_count": 89,
   "metadata": {},
   "outputs": [
    {
     "name": "stdout",
     "output_type": "stream",
     "text": [
      "The training accuracy is: 0.6655519999999999\n"
     ]
    }
   ],
   "source": [
    "initial_w = generate_w(x_tr.shape)\n",
    "max_iters = 50\n",
    "gamma = 0.01\n",
    "lambda_ = 0.1\n",
    "w, loss = reg_logistic_regression(y_tr, x_tr, lambda_, initial_w, max_iters, gamma)\n",
    "pred = predict_logistic(x_tr, w)\n",
    "print(\"The training accuracy is:\", get_accuracy(y_tr, pred))\n",
    "#print(\"The validation accuracy is:\", get_accuracy(y_v, x_v, w))"
   ]
  },
  {
   "cell_type": "code",
   "execution_count": 23,
   "metadata": {},
   "outputs": [
    {
     "name": "stdout",
     "output_type": "stream",
     "text": [
      "0.342668\n"
     ]
    },
    {
     "data": {
      "text/plain": [
       "0.077432"
      ]
     },
     "execution_count": 23,
     "metadata": {},
     "output_type": "execute_result"
    }
   ],
   "source": [
    "print(y_tr.mean())\n",
    "initial_w = generate_w(x_tr.shape)\n",
    "pred = sigmoid(x_tr.dot(initial_w)) > 0.5\n",
    "np.mean(pred)"
   ]
  },
  {
   "cell_type": "code",
   "execution_count": 34,
   "metadata": {},
   "outputs": [
    {
     "ename": "ValueError",
     "evalue": "shapes (250000,31) and (250000,10) not aligned: 31 (dim 1) != 250000 (dim 0)",
     "output_type": "error",
     "traceback": [
      "\u001b[0;31m---------------------------------------------------------------------------\u001b[0m",
      "\u001b[0;31mValueError\u001b[0m                                Traceback (most recent call last)",
      "Input \u001b[0;32mIn [34]\u001b[0m, in \u001b[0;36m<cell line: 2>\u001b[0;34m()\u001b[0m\n\u001b[1;32m      1\u001b[0m initial_w \u001b[38;5;241m=\u001b[39m np\u001b[38;5;241m.\u001b[39mrandom\u001b[38;5;241m.\u001b[39mrandn(x_tr\u001b[38;5;241m.\u001b[39mshape[\u001b[38;5;241m0\u001b[39m], \u001b[38;5;241m10\u001b[39m)\n\u001b[0;32m----> 2\u001b[0m \u001b[43mx_tr\u001b[49m\u001b[38;5;241;43m.\u001b[39;49m\u001b[43mdot\u001b[49m\u001b[43m(\u001b[49m\u001b[43minitial_w\u001b[49m\u001b[43m)\u001b[49m\n",
      "\u001b[0;31mValueError\u001b[0m: shapes (250000,31) and (250000,10) not aligned: 31 (dim 1) != 250000 (dim 0)"
     ]
    }
   ],
   "source": [
    "initial_w = np.random.randn(x_tr.shape[0], 10)\n",
    "x_tr.dot(initial_w)"
   ]
  },
  {
   "cell_type": "code",
   "execution_count": 32,
   "metadata": {},
   "outputs": [
    {
     "data": {
      "text/plain": [
       "0.657332"
      ]
     },
     "execution_count": 32,
     "metadata": {},
     "output_type": "execute_result"
    }
   ],
   "source": [
    "1- y_tr.mean()"
   ]
  },
  {
   "cell_type": "code",
   "execution_count": null,
   "metadata": {},
   "outputs": [],
   "source": []
  },
  {
   "cell_type": "code",
   "execution_count": null,
   "metadata": {},
   "outputs": [],
   "source": []
  },
  {
   "cell_type": "code",
   "execution_count": null,
   "metadata": {},
   "outputs": [],
   "source": []
  },
  {
   "cell_type": "code",
   "execution_count": null,
   "metadata": {},
   "outputs": [],
   "source": []
  },
  {
   "cell_type": "markdown",
   "metadata": {},
   "source": [
    "## make test file"
   ]
  },
  {
   "cell_type": "code",
   "execution_count": 47,
   "metadata": {},
   "outputs": [],
   "source": [
    "pred = ((x_te.dot(w) >= 0 ) - 0.5 )* 2\n",
    "# create_csv_submission(id_te, pred, 'least_sq.csv')"
   ]
  },
  {
   "cell_type": "code",
   "execution_count": 48,
   "metadata": {},
   "outputs": [
    {
     "data": {
      "text/plain": [
       "array([-1., -1., -1., ...,  1., -1., -1.])"
      ]
     },
     "execution_count": 48,
     "metadata": {},
     "output_type": "execute_result"
    }
   ],
   "source": [
    "pred"
   ]
  },
  {
   "cell_type": "code",
   "execution_count": 49,
   "metadata": {},
   "outputs": [
    {
     "data": {
      "text/plain": [
       "array([-1.38980046, -0.71455942, -0.29125224, ...,  0.12258703,\n",
       "       -0.07216248, -0.59318333])"
      ]
     },
     "execution_count": 49,
     "metadata": {},
     "output_type": "execute_result"
    }
   ],
   "source": []
  },
  {
   "cell_type": "code",
   "execution_count": null,
   "metadata": {},
   "outputs": [],
   "source": []
  }
 ],
 "metadata": {
  "kernelspec": {
   "display_name": "Python 3 (ipykernel)",
   "language": "python",
   "name": "python3"
  },
  "language_info": {
   "codemirror_mode": {
    "name": "ipython",
    "version": 3
   },
   "file_extension": ".py",
   "mimetype": "text/x-python",
   "name": "python",
   "nbconvert_exporter": "python",
   "pygments_lexer": "ipython3",
   "version": "3.8.11"
  },
  "vscode": {
   "interpreter": {
    "hash": "ee6b41961f93c6f250bc55b15f7bfcab9769f15680d1f879ddd8dd4e686622cd"
   }
  }
 },
 "nbformat": 4,
 "nbformat_minor": 2
}
